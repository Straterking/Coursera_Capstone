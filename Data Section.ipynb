{
    "cells": [
        {
            "metadata": {
                "collapsed": true
            },
            "cell_type": "markdown",
            "source": "# 2. Data Section"
        },
        {
            "metadata": {
                "collapsed": true
            },
            "cell_type": "markdown",
            "source": "## 2.1 Data Source"
        },
        {
            "metadata": {},
            "cell_type": "markdown",
            "source": "The data source I am going to be using for this analysis is available [here](https://s3.us.cloud-object-storage.appdomain.cloud/cf-courses-data/CognitiveClass/DP0701EN/version-2/Data-Collisions.csv) under the cloud object storage for the cognitive class course data."
        },
        {
            "metadata": {},
            "cell_type": "markdown",
            "source": "## 2.2 Data Set"
        },
        {
            "metadata": {},
            "cell_type": "markdown",
            "source": "<b>SEVERITYCODE</b>  :  outlines level of severity\n\n<b>X</b>             :      longitude cordinates\n\n<b>Y</b>              :      latitude cordinates\n\n<b>OBJECTID</b>       :      unlabelled data (could be dataset id)\n\n<b>INCKEY</b>         :      unlabelled data\n\n<b>COLDETKEY</b>      :      unlabelled data\n\n<b>REPORTNO</b>       :      incident number\n\n<b>STATUS</b>         :      labelled data with no reference to meaning\n\n<b>ADDRTYPE</b>       :      type of road junction \n\n<b>INTKEY</b>         :      unlabelled data\n\n<b>LOCATION</b>       :      physical address of incident\n\n<b>EXCEPTRSNCODE</b>    :     Information code\n\n<b>EXCEPTRSNDESC</b>    :     explanation of Information code\n\n<b>SEVERITYCODE.1</b>   :     repeated field\n\n<b>SEVERITYDESC</b>     :     explanation of the severity code\n\n<b>COLLISIONTYPE</b>    :     type of collision (repeated)\n\n<b>PERSONCOUNT</b>      :     the total number of people involved in the collision\n\n<b>PEDCOUNT</b>         :     pedestrians invloved from the personcount\n\n<b>PEDCYLCOUNT</b>      :     cyclists involved from the pedcount\n\n<b>VEHCOUNT</b>         :     total number of vehicles involved\n\n<b>INCDATE</b>          :     date of incident\n\n<b>INCDTTM</b>          :     date time of incident\n\n<b>JUNCTIONTYPE</b>     :     type of junction (repeated)\n\n<b>SDOT_COLCODE</b>     :     type of collision code\n\n<b>SDOT_COLDESC</b>     :     explanation of SDOT_COLCODE\n\n<b>INATTENTIONIND</b>   :     unlabelled data\n\n<b>UNDERINFL</b>        :      under influence (scrambled data)\n\n<b>WEATHER</b>          :      weather at the day of the collission\n\n<b>ROADCOND</b>         :      the condition of the road on the day of the collision\n\n<b>LIGHTCOND</b>        :      the lighting condition on the day of the collision\n\n<b>PEDROWNOTGRNT</b>    :      unlabelled data\n\n<b>SDOTCOLNUM</b>       :      unlabelled data\n\n<b>SPEEDING</b>         :      where the vehicles involved in the collision speeding (not enough data)\n\n<b>ST_COLCODE</b>       :      type of collision code (repeated)\n\n<b>ST_COLDESC</b>       :      explanation of ST_COLCODE (repeated)\n\n<b>SEGLANEKEY</b>       :      unlabelled data\n\n<b>CROSSWALKKEY</b>     :      unlabelled data\n\n<b>HITPARKEDCAR</b>     :      flag for collision on parked cars"
        },
        {
            "metadata": {},
            "cell_type": "markdown",
            "source": "## 2.3 Data Cleaning"
        },
        {
            "metadata": {},
            "cell_type": "markdown",
            "source": "Repeated features highlighted above which are SEVERITYCODE.1, ST_COLCODE, ST_COLDESC  ,COLLISIONTYPE and JUNCTIONTYPE will be dropped from the feature set. Also all features with unlabelled data and all features that do not have enough information like OBJECTID, INCKEY, COLDETKEY, INTKEY, INATTENTIONIND, PEDROWNOTGRNT, SDOTCOLNUM, SEGLANEKEY, CROSSWALKKEY and SPEEDING will be dropped from the feature set. Features that are of no use in the analysis like REPORTNO, STATUS, EXCEPTRSNCODE, EXCEPTRSNDESC, PEDCOUNT, PEDCYLCOUNT, SDOT_COLCODE, SDOT_COLDESC."
        },
        {
            "metadata": {},
            "cell_type": "markdown",
            "source": "## 2.4 Feature Selection"
        },
        {
            "metadata": {},
            "cell_type": "markdown",
            "source": "After Data cleaning the dataset is left with 194 673 samples and 15 features. For the categorical data to be used in the feature set I used the one hot encoding technique to convert categorical variables to binary variables and appended them to the feature set Data Frame. For each feature I looked at the different correlations of the feature to the depebdent variable in question, in this case Severity. For the weather feature I looked at the different weather condition distributions and removed the unknown and other category which could give a bias in the machine learning process (**Table1**). For the road condition feature I looked at the different road condition distributuions and removed the other and unknown category (**Table1**). For the lighting condition I follwed suit with the same process and removed the unknown and other categories (**Table1**). I dropped all 3 main column features from the feature set with the categorical variables now forming a basis for the feature set Data frame.\n\n\n <h1 align=\"center\"><font size=\"2\">Table1. Feature Selection.</font></h1>\n | Tables        | Are           | Cool  |\n| ------------- |:-------------:| -----:|\n| col 3 is      | right-aligned | $1600 |\n| col 2 is      | centered      |   $12 |\n| zebra stripes | are neat      |    $1 |                                                                                                                                             \n\n| Kept features                                                                                                                  |Dropped features                                                     |  Reason for dropping features     |\n| :---              |    :----:                                                                                                  |          ---:                                                       |\n| Weather categorical variables \n(**Blowing Sand/Dirt,Clear,Fog/Smog/Smoke,Overcast,Partly Cloudy,Raining,Severe Crosswind,Sleet/Hail/Freezing Rain,Snowing**)    | Unkown, Other categorical variables and the WEATHER column          |   Conversion of categorical variables                   |\n| Road condition categorical variables \n(**Dry,Ice,Oil,Sand/Mud/Dirt,Snow/Slush,Standing Water,Wet**)                                                                    | Unkown, Other categorical variables and the ROADCOND colum          |            Conversion of categorical variables          | \n| Light condition categorical variables \n(**Dark - No Street Lights,Dark - Street Lights Off,Dark - Street Lights On,Dark - Unknown Lighting,Dawn,Daylight,Dusk**)       | Unkown, Other categorical variables and the LIGHTCOND column         | Conversion of categorical variables                     | "
        },
        {
            "metadata": {},
            "cell_type": "code",
            "source": "",
            "execution_count": null,
            "outputs": []
        },
        {
            "metadata": {},
            "cell_type": "code",
            "source": "",
            "execution_count": null,
            "outputs": []
        }
    ],
    "metadata": {
        "kernelspec": {
            "name": "python3",
            "display_name": "Python 3.6",
            "language": "python"
        },
        "language_info": {
            "name": "python",
            "version": "3.6.9",
            "mimetype": "text/x-python",
            "codemirror_mode": {
                "name": "ipython",
                "version": 3
            },
            "pygments_lexer": "ipython3",
            "nbconvert_exporter": "python",
            "file_extension": ".py"
        }
    },
    "nbformat": 4,
    "nbformat_minor": 1
}