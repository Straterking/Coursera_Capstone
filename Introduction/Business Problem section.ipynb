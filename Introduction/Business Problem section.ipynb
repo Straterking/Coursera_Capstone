{
    "cells": [
        {
            "cell_type": "markdown",
            "metadata": {
                "collapsed": true
            },
            "source": "# 1. Introduction and Business Problem"
        },
        {
            "cell_type": "markdown",
            "metadata": {},
            "source": "The problem that is at hand is the continuing increase in accidents in and around the city metropol area. These collisions will directly result in either an Injury or property damage. In the case of Injury collisions that would mean an increase in hospital admissions and because of  the limited capacity, trauma centres will now be overwhelmed. In the case of property damage it may result in the state being held liable even in the event of the motorists being in the wrong because of the lighting conditions of the streets which may be exsistent and malfunctioning and non-exisitent at all. The state could also be held accountable for not diplaying appropriate signage that gives warning of adverse road conditions. \n"
        },
        {
            "cell_type": "markdown",
            "metadata": {},
            "source": "## 1.1 Recommedation"
        },
        {
            "cell_type": "markdown",
            "metadata": {},
            "source": "With all the issues that I have addressed I believe there should be urgency and a need to prevent the severity of collisions in the city metropol so as to curb the financial and emototional implications it causes. So by being able to predict the severity of collisions firstly by locations that are deemed to be hotspots and prone to accidents and then looking at other factors that may have a high correletation with the severity of the collisions, would change the outlook on the severity in the different locations. This analysis would have a high probability in reducing the number of collisions and the impact they have in the city metropol in the future. "
        },
        {
            "cell_type": "code",
            "execution_count": null,
            "metadata": {},
            "outputs": [],
            "source": ""
        }
    ],
    "metadata": {
        "kernelspec": {
            "display_name": "Python 3.6",
            "language": "python",
            "name": "python3"
        },
        "language_info": {
            "codemirror_mode": {
                "name": "ipython",
                "version": 3
            },
            "file_extension": ".py",
            "mimetype": "text/x-python",
            "name": "python",
            "nbconvert_exporter": "python",
            "pygments_lexer": "ipython3",
            "version": "3.6.9"
        }
    },
    "nbformat": 4,
    "nbformat_minor": 1
}